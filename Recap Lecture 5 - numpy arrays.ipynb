{
 "cells": [
  {
   "cell_type": "code",
   "execution_count": null,
   "metadata": {},
   "outputs": [],
   "source": [
    "#QUESTION 1 \n",
    "#\n",
    "#\n",
    "a = np.array( [ 1, 2, 3 ] )\n",
    "a+=1"
   ]
  },
  {
   "cell_type": "code",
   "execution_count": null,
   "metadata": {},
   "outputs": [],
   "source": [
    "#QUESTION 2\n",
    "#\n",
    "#\n",
    "\n",
    "a = np.array( [ 1, 2, 3 ] )\n",
    "b = np.array( [ 2, 2, 2 ] )\n",
    "a += b\n",
    "print(a)"
   ]
  },
  {
   "cell_type": "code",
   "execution_count": null,
   "metadata": {},
   "outputs": [],
   "source": [
    "#QUESTION 3\n",
    "#\n",
    "#\n",
    "\n",
    "a = np.array( [ 1, 2, 3 ] )\n",
    "b = a\n",
    "b[ 0 ] = -2\n",
    "print(a)"
   ]
  },
  {
   "cell_type": "code",
   "execution_count": null,
   "metadata": {},
   "outputs": [],
   "source": [
    "#QUESTION 4\n",
    "#\n",
    "#\n",
    "a = np.array( [ 1, 2, 3 ] )\n",
    "b = a.dot( np.array( [ 1, 2, 3 ] ) )\n",
    "print(b)"
   ]
  },
  {
   "cell_type": "code",
   "execution_count": null,
   "metadata": {},
   "outputs": [],
   "source": [
    "#QUESTION 5\n",
    "#\n",
    "#\n",
    "a = np.logspace( 0, 10, 11 )\n",
    "print(a)"
   ]
  },
  {
   "cell_type": "code",
   "execution_count": null,
   "metadata": {},
   "outputs": [],
   "source": [
    "#QUESTION 6 \n",
    "#\n",
    "#\n",
    "\n",
    "a = np.array( [ 1, 2, 3 ] )\n",
    "print( a.mean() )"
   ]
  },
  {
   "cell_type": "code",
   "execution_count": null,
   "metadata": {},
   "outputs": [],
   "source": [
    "#QUESTION 7 \n",
    "#\n",
    "#\n",
    "\n",
    "a = np.array( [ 0, 0, 1 ] )\n",
    "print( a.any() )"
   ]
  },
  {
   "cell_type": "code",
   "execution_count": null,
   "metadata": {},
   "outputs": [],
   "source": [
    "#QUESTION 8 \n",
    "#\n",
    "#\n",
    "\n",
    "a = np.array( [ 1, 2, 3, 4 ] )\n",
    "print( np.argmax( a ) )"
   ]
  },
  {
   "cell_type": "code",
   "execution_count": null,
   "metadata": {},
   "outputs": [],
   "source": [
    "#QUESTION 9\n",
    "#\n",
    "#\n",
    "\n",
    "a = np.array( [ 0, -2, 3 ] )\n",
    "b = np.extract( a > 0, a )\n",
    "print(b)"
   ]
  },
  {
   "cell_type": "code",
   "execution_count": null,
   "metadata": {},
   "outputs": [],
   "source": [
    "#QUESTION 10 \n",
    "#\n",
    "#\n",
    "import numpy.ma as ma\n",
    "\n",
    "x = np.array( [ -1, 1, 2, 3 ] )\n",
    "\n",
    "masked = ma.masked_array( x, mask = x > 0 )\n",
    "\n",
    "print( masked.mean() )\n"
   ]
  },
  {
   "cell_type": "code",
   "execution_count": null,
   "metadata": {},
   "outputs": [],
   "source": []
  }
 ],
 "metadata": {
  "kernelspec": {
   "display_name": "Python 3",
   "language": "python",
   "name": "python3"
  },
  "language_info": {
   "codemirror_mode": {
    "name": "ipython",
    "version": 3
   },
   "file_extension": ".py",
   "mimetype": "text/x-python",
   "name": "python",
   "nbconvert_exporter": "python",
   "pygments_lexer": "ipython3",
   "version": "3.6.8"
  }
 },
 "nbformat": 4,
 "nbformat_minor": 2
}
